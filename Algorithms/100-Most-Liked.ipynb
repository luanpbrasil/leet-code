{
 "cells": [
  {
   "cell_type": "markdown",
   "metadata": {},
   "source": [
    "# 1. Two Sum"
   ]
  },
  {
   "cell_type": "code",
   "execution_count": null,
   "metadata": {},
   "outputs": [],
   "source": [
    "class Solution(object):\n",
    "    def twoSum(self, nums, target):\n",
    "        \"\"\"\n",
    "        :type nums: List[int]\n",
    "        :type target: int\n",
    "        :rtype: List[int]\n",
    "        \"\"\"\n",
    "        for i in range(len(nums)-1):\n",
    "            base_value = nums[i]\n",
    "            for j in range(i+1, len(nums)):\n",
    "                two_sum = base_value + nums[j]\n",
    "                if two_sum == target:\n",
    "                    return [i, j]\n",
    "        return []"
   ]
  },
  {
   "cell_type": "markdown",
   "metadata": {},
   "source": [
    "# 2. Add Two Numbers"
   ]
  },
  {
   "cell_type": "code",
   "execution_count": 1,
   "metadata": {},
   "outputs": [],
   "source": [
    "# Definition for singly-linked list.\n",
    "class ListNode:\n",
    "    def __init__(self, val=0, next=None):\n",
    "        self.val = val\n",
    "        self.next = next\n",
    "        \n",
    "class Solution:\n",
    "    def addTwoNumbers(self, l1: ListNode, l2: ListNode, carry=0) -> ListNode:\n",
    "        if l1 or l2:\n",
    "            v1 = l1.val if l1 else 0\n",
    "            v2 = l2.val if l2 else 0\n",
    "\n",
    "            val = v1 + v2 + carry\n",
    "\n",
    "            if val // 10 == 0:\n",
    "                return ListNode(val, next=self.addTwoNumbers(l1=l1.next if l1 else None, l2=l2.next if l2 else None))\n",
    "\n",
    "            else:\n",
    "                out, carry = self.get_carry_and_unit(val)\n",
    "                val = out\n",
    "                return ListNode(val, next=self.addTwoNumbers(l1=l1.next if l1 else None, l2=l2.next if l2 else None, carry=carry))\n",
    "\n",
    "        else:\n",
    "            return ListNode(val=carry) if carry > 0 else None\n",
    "\n",
    "    def get_carry_and_unit(self, val):\n",
    "        carry = val // 10\n",
    "        out = val % 10\n",
    "        return (out, carry)"
   ]
  },
  {
   "cell_type": "code",
   "execution_count": null,
   "metadata": {},
   "outputs": [],
   "source": []
  },
  {
   "cell_type": "markdown",
   "metadata": {},
   "source": [
    "# 3. Longest Substring Without Repeating Characters"
   ]
  },
  {
   "cell_type": "code",
   "execution_count": 5,
   "metadata": {},
   "outputs": [],
   "source": [
    "class Solution:\n",
    "    def lengthOfLongestSubstring(self, s):\n",
    "        seen = {}\n",
    "        left = 0\n",
    "        output = 0\n",
    "        for i, char in enumerate(s):\n",
    "            if char not in seen:\n",
    "                output = max(output, i-left+1)\n",
    "            else:\n",
    "                if seen[char] < left:\n",
    "                    output = max(output, i-left+1)\n",
    "                else:\n",
    "                    left = seen[char] + 1\n",
    "            seen[char] = i\n",
    "        return output"
   ]
  },
  {
   "cell_type": "code",
   "execution_count": 7,
   "metadata": {},
   "outputs": [
    {
     "data": {
      "text/plain": [
       "4"
      ]
     },
     "execution_count": 7,
     "metadata": {},
     "output_type": "execute_result"
    }
   ],
   "source": [
    "Solution().lengthOfLongestSubstring('abccerxxx')"
   ]
  },
  {
   "cell_type": "markdown",
   "metadata": {},
   "source": [
    "# 4. Longest Palindromic Substring (incomplete)"
   ]
  },
  {
   "cell_type": "code",
   "execution_count": 2,
   "metadata": {},
   "outputs": [],
   "source": [
    "def isPalindrome(s):\n",
    "    s = s.lower()\n",
    "    left = 0\n",
    "    right = len(s)-1\n",
    "    while left < right and s[left] == s[right]:\n",
    "        left+=1\n",
    "        right-=1\n",
    "    return left == right if len(s)%2 != 0 else left == right + 1"
   ]
  },
  {
   "cell_type": "code",
   "execution_count": 4,
   "metadata": {},
   "outputs": [
    {
     "data": {
      "text/plain": [
       "True"
      ]
     },
     "execution_count": 4,
     "metadata": {},
     "output_type": "execute_result"
    }
   ],
   "source": [
    "s = \"abba\"\n",
    "isPalindrome(s)"
   ]
  },
  {
   "cell_type": "markdown",
   "metadata": {},
   "source": [
    "# 9. Palindrome Number"
   ]
  },
  {
   "cell_type": "code",
   "execution_count": 8,
   "metadata": {},
   "outputs": [],
   "source": [
    "class Solution:\n",
    "    def isPalindrome(self, x):\n",
    "        x = str(x).lower()\n",
    "        left = 0\n",
    "        right = len(x)-1\n",
    "        while left < right and x[left] == x[right]:\n",
    "            left+=1\n",
    "            right-=1\n",
    "        return left == right if len(x)%2 != 0 else left == right + 1"
   ]
  },
  {
   "cell_type": "code",
   "execution_count": 9,
   "metadata": {},
   "outputs": [
    {
     "data": {
      "text/plain": [
       "False"
      ]
     },
     "execution_count": 9,
     "metadata": {},
     "output_type": "execute_result"
    }
   ],
   "source": [
    "Solution().isPalindrome(-121)"
   ]
  },
  {
   "cell_type": "markdown",
   "metadata": {},
   "source": [
    "# 20. Valid Parenthesis"
   ]
  },
  {
   "cell_type": "code",
   "execution_count": 1,
   "metadata": {},
   "outputs": [],
   "source": [
    "from collections import deque\n",
    "\n",
    "def isValid(s):\n",
    "    stack = deque()\n",
    "\n",
    "    for char in s:\n",
    "        if char == \"(\":\n",
    "            stack.append(char)\n",
    "        elif char == \")\":\n",
    "            if len(stack) == 0:\n",
    "                return False\n",
    "            elif stack[-1] == \"[\" or stack[-1] == \"{\":\n",
    "                return False\n",
    "            else:\n",
    "                stack.pop()\n",
    "        elif char == \"[\":\n",
    "            stack.append(char)\n",
    "        elif char == \"]\":\n",
    "            if len(stack) == 0:\n",
    "                return False\n",
    "            elif stack[-1] == \"(\" or stack[-1] == \"{\":\n",
    "                return False\n",
    "            else:\n",
    "                stack.pop()\n",
    "        elif char == \"{\":\n",
    "            stack.append(char)\n",
    "        elif char == \"}\":\n",
    "            if len(stack) == 0:\n",
    "                return False\n",
    "            elif stack[-1] == \"[\" or stack[-1] == \"(\":\n",
    "                return False\n",
    "            else:\n",
    "                stack.pop()\n",
    "\n",
    "    return len(stack) == 0\n",
    "        "
   ]
  },
  {
   "cell_type": "code",
   "execution_count": null,
   "metadata": {},
   "outputs": [],
   "source": []
  },
  {
   "cell_type": "markdown",
   "metadata": {},
   "source": [
    "# 21. Merge Two Sorted Lists"
   ]
  },
  {
   "cell_type": "code",
   "execution_count": 3,
   "metadata": {},
   "outputs": [],
   "source": [
    "# Definition for singly-linked list.\n",
    "class ListNode:\n",
    "    def __init__(self, val=0, next=None):\n",
    "        self.val = val\n",
    "        self.next = next\n",
    "\n",
    "class Solution:\n",
    "    def mergeTwoLists(self, l1, l2):\n",
    "        dummy_node = ListNode(None)\n",
    "        if l1 and l2:\n",
    "            if l1.val is None:\n",
    "                return l2\n",
    "            elif l2.val is None:\n",
    "                return l1\n",
    "            if l1.val <= l2.val:\n",
    "                dummy_node.next = ListNode(l1.val, next=self.mergeTwoLists(l1.next, l2))\n",
    "            else:\n",
    "                dummy_node.next = ListNode(l2.val, next=self.mergeTwoLists(l1, l2.next))\n",
    "        elif l1 is None and l2 is not None:\n",
    "            dummy_node.next = ListNode(l2.val, next=self.mergeTwoLists(l1, l2.next))\n",
    "        elif l2 is None and l1 is not None:\n",
    "            dummy_node.next = ListNode(l1.val, next=self.mergeTwoLists(l1.next, l2))\n",
    "        else:\n",
    "            return dummy_node.next\n",
    "        return dummy_node.next\n",
    "    "
   ]
  },
  {
   "cell_type": "code",
   "execution_count": 4,
   "metadata": {},
   "outputs": [
    {
     "name": "stdout",
     "output_type": "stream",
     "text": [
      "1\n",
      "1\n",
      "2\n",
      "3\n",
      "4\n",
      "4\n"
     ]
    }
   ],
   "source": [
    "l1 = ListNode(1, ListNode(2, ListNode(4)))\n",
    "l2 = ListNode(1, ListNode(3, ListNode(4)))\n",
    "\n",
    "mergedList = Solution().mergeTwoLists(l1, l2)\n",
    "x = mergedList\n",
    "while x:\n",
    "    print(x.val)\n",
    "    x = x.next"
   ]
  },
  {
   "cell_type": "code",
   "execution_count": null,
   "metadata": {},
   "outputs": [],
   "source": []
  },
  {
   "cell_type": "markdown",
   "metadata": {},
   "source": [
    "# 35. Search Insert Position"
   ]
  },
  {
   "cell_type": "code",
   "execution_count": 75,
   "metadata": {},
   "outputs": [],
   "source": [
    "class Solution:\n",
    "    def searchInsert(self, nums: list, target: int) -> int:\n",
    "        l = 0\n",
    "        r = len(nums) - 1\n",
    "        i = r//2\n",
    "\n",
    "        while nums[i] != target and r >= l:\n",
    "            if nums[i] > target:\n",
    "                r = i-1\n",
    "                i = (r + l)//2\n",
    "            \n",
    "            else:\n",
    "                l = i+1\n",
    "                i = (r + l)//2\n",
    "            \n",
    "        return i if nums[i] == target else l"
   ]
  },
  {
   "cell_type": "code",
   "execution_count": 85,
   "metadata": {},
   "outputs": [
    {
     "name": "stdout",
     "output_type": "stream",
     "text": [
      "0\n"
     ]
    }
   ],
   "source": [
    "nums_test = [0]\n",
    "nums = [1]\n",
    "for i in nums_test:\n",
    "    target = i\n",
    "    print(Solution().searchInsert(nums, target))"
   ]
  },
  {
   "cell_type": "markdown",
   "metadata": {},
   "source": [
    "# 53. Maximum Subarray"
   ]
  },
  {
   "cell_type": "markdown",
   "metadata": {},
   "source": []
  }
 ],
 "metadata": {
  "interpreter": {
   "hash": "066f272f19275b5bb4c40566dddef25a99b9fcd09a500f64c257fce03aad43b9"
  },
  "kernelspec": {
   "display_name": "Python 3.6.9 64-bit ('leet-code-env': venv)",
   "name": "python3"
  },
  "language_info": {
   "codemirror_mode": {
    "name": "ipython",
    "version": 3
   },
   "file_extension": ".py",
   "mimetype": "text/x-python",
   "name": "python",
   "nbconvert_exporter": "python",
   "pygments_lexer": "ipython3",
   "version": "3.6.9"
  },
  "orig_nbformat": 4
 },
 "nbformat": 4,
 "nbformat_minor": 2
}
